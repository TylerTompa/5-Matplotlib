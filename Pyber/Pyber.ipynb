{
 "cells": [
  {
   "cell_type": "markdown",
   "metadata": {},
   "source": [
    "# In this note book we will be analyzing ride sharing data.\n",
    "# First we will examine a bubble plot displaying the relationship between average fare, total rides, total drivers, and city types.\n",
    "# Then we will examine various pie charts including\n",
    "# 1. Percent of total fares by city type\n",
    "# 2. Percent of total rides by city type.\n",
    "# 3. Percent of total drivers by city type."
   ]
  },
  {
   "cell_type": "code",
   "execution_count": 93,
   "metadata": {},
   "outputs": [],
   "source": [
    "%matplotlib inline"
   ]
  },
  {
   "cell_type": "code",
   "execution_count": 94,
   "metadata": {},
   "outputs": [],
   "source": [
    "# We must first import relevant packages to this assignment.\n",
    "import matplotlib.pyplot as plt\n",
    "import pandas as pd\n",
    "import numpy as np"
   ]
  },
  {
   "cell_type": "code",
   "execution_count": 95,
   "metadata": {},
   "outputs": [],
   "source": [
    "# Here we define where our data is located so that we can later use it.\n",
    "city_data_csv_path = \"Data/city_data.csv\"\n",
    "ride_data_csv_path = \"Data/ride_data.csv\""
   ]
  },
  {
   "cell_type": "code",
   "execution_count": 96,
   "metadata": {},
   "outputs": [],
   "source": [
    "# This creates dataframes using the data from our relevant csv files.\n",
    "city_data = pd.read_csv(city_data_csv_path)\n",
    "ride_data = pd.read_csv(ride_data_csv_path)"
   ]
  },
  {
   "cell_type": "code",
   "execution_count": 99,
   "metadata": {},
   "outputs": [
    {
     "data": {
      "text/html": [
       "<div>\n",
       "<style scoped>\n",
       "    .dataframe tbody tr th:only-of-type {\n",
       "        vertical-align: middle;\n",
       "    }\n",
       "\n",
       "    .dataframe tbody tr th {\n",
       "        vertical-align: top;\n",
       "    }\n",
       "\n",
       "    .dataframe thead th {\n",
       "        text-align: right;\n",
       "    }\n",
       "</style>\n",
       "<table border=\"1\" class=\"dataframe\">\n",
       "  <thead>\n",
       "    <tr style=\"text-align: right;\">\n",
       "      <th></th>\n",
       "      <th>city</th>\n",
       "      <th>driver_count</th>\n",
       "      <th>type</th>\n",
       "    </tr>\n",
       "  </thead>\n",
       "  <tbody>\n",
       "    <tr>\n",
       "      <th>0</th>\n",
       "      <td>Richardfort</td>\n",
       "      <td>38</td>\n",
       "      <td>Urban</td>\n",
       "    </tr>\n",
       "    <tr>\n",
       "      <th>1</th>\n",
       "      <td>Williamsstad</td>\n",
       "      <td>59</td>\n",
       "      <td>Urban</td>\n",
       "    </tr>\n",
       "    <tr>\n",
       "      <th>2</th>\n",
       "      <td>Port Angela</td>\n",
       "      <td>67</td>\n",
       "      <td>Urban</td>\n",
       "    </tr>\n",
       "    <tr>\n",
       "      <th>3</th>\n",
       "      <td>Rodneyfort</td>\n",
       "      <td>34</td>\n",
       "      <td>Urban</td>\n",
       "    </tr>\n",
       "    <tr>\n",
       "      <th>4</th>\n",
       "      <td>West Robert</td>\n",
       "      <td>39</td>\n",
       "      <td>Urban</td>\n",
       "    </tr>\n",
       "  </tbody>\n",
       "</table>\n",
       "</div>"
      ],
      "text/plain": [
       "           city  driver_count   type\n",
       "0   Richardfort            38  Urban\n",
       "1  Williamsstad            59  Urban\n",
       "2   Port Angela            67  Urban\n",
       "3    Rodneyfort            34  Urban\n",
       "4   West Robert            39  Urban"
      ]
     },
     "execution_count": 99,
     "metadata": {},
     "output_type": "execute_result"
    }
   ],
   "source": [
    "# Here we prview our city_data dataframe so we know what data it contains.\n",
    "city_data.head()"
   ]
  },
  {
   "cell_type": "code",
   "execution_count": 100,
   "metadata": {},
   "outputs": [
    {
     "data": {
      "text/html": [
       "<div>\n",
       "<style scoped>\n",
       "    .dataframe tbody tr th:only-of-type {\n",
       "        vertical-align: middle;\n",
       "    }\n",
       "\n",
       "    .dataframe tbody tr th {\n",
       "        vertical-align: top;\n",
       "    }\n",
       "\n",
       "    .dataframe thead th {\n",
       "        text-align: right;\n",
       "    }\n",
       "</style>\n",
       "<table border=\"1\" class=\"dataframe\">\n",
       "  <thead>\n",
       "    <tr style=\"text-align: right;\">\n",
       "      <th></th>\n",
       "      <th>city</th>\n",
       "      <th>date</th>\n",
       "      <th>fare</th>\n",
       "      <th>ride_id</th>\n",
       "    </tr>\n",
       "  </thead>\n",
       "  <tbody>\n",
       "    <tr>\n",
       "      <th>0</th>\n",
       "      <td>Lake Jonathanshire</td>\n",
       "      <td>2018-01-14 10:14:22</td>\n",
       "      <td>13.83</td>\n",
       "      <td>5739410935873</td>\n",
       "    </tr>\n",
       "    <tr>\n",
       "      <th>1</th>\n",
       "      <td>South Michelleport</td>\n",
       "      <td>2018-03-04 18:24:09</td>\n",
       "      <td>30.24</td>\n",
       "      <td>2343912425577</td>\n",
       "    </tr>\n",
       "    <tr>\n",
       "      <th>2</th>\n",
       "      <td>Port Samanthamouth</td>\n",
       "      <td>2018-02-24 04:29:00</td>\n",
       "      <td>33.44</td>\n",
       "      <td>2005065760003</td>\n",
       "    </tr>\n",
       "    <tr>\n",
       "      <th>3</th>\n",
       "      <td>Rodneyfort</td>\n",
       "      <td>2018-02-10 23:22:03</td>\n",
       "      <td>23.44</td>\n",
       "      <td>5149245426178</td>\n",
       "    </tr>\n",
       "    <tr>\n",
       "      <th>4</th>\n",
       "      <td>South Jack</td>\n",
       "      <td>2018-03-06 04:28:35</td>\n",
       "      <td>34.58</td>\n",
       "      <td>3908451377344</td>\n",
       "    </tr>\n",
       "  </tbody>\n",
       "</table>\n",
       "</div>"
      ],
      "text/plain": [
       "                 city                 date   fare        ride_id\n",
       "0  Lake Jonathanshire  2018-01-14 10:14:22  13.83  5739410935873\n",
       "1  South Michelleport  2018-03-04 18:24:09  30.24  2343912425577\n",
       "2  Port Samanthamouth  2018-02-24 04:29:00  33.44  2005065760003\n",
       "3          Rodneyfort  2018-02-10 23:22:03  23.44  5149245426178\n",
       "4          South Jack  2018-03-06 04:28:35  34.58  3908451377344"
      ]
     },
     "execution_count": 100,
     "metadata": {},
     "output_type": "execute_result"
    }
   ],
   "source": [
    "# Here we prview our ride_data dataframe so we know what data it contains.\n",
    "ride_data.head()"
   ]
  },
  {
   "cell_type": "code",
   "execution_count": 103,
   "metadata": {
    "scrolled": false
   },
   "outputs": [
    {
     "data": {
      "text/html": [
       "<div>\n",
       "<style scoped>\n",
       "    .dataframe tbody tr th:only-of-type {\n",
       "        vertical-align: middle;\n",
       "    }\n",
       "\n",
       "    .dataframe tbody tr th {\n",
       "        vertical-align: top;\n",
       "    }\n",
       "\n",
       "    .dataframe thead th {\n",
       "        text-align: right;\n",
       "    }\n",
       "</style>\n",
       "<table border=\"1\" class=\"dataframe\">\n",
       "  <thead>\n",
       "    <tr style=\"text-align: right;\">\n",
       "      <th></th>\n",
       "      <th>city</th>\n",
       "      <th>driver_count</th>\n",
       "      <th>type</th>\n",
       "      <th>date</th>\n",
       "      <th>fare</th>\n",
       "      <th>ride_id</th>\n",
       "    </tr>\n",
       "  </thead>\n",
       "  <tbody>\n",
       "    <tr>\n",
       "      <th>0</th>\n",
       "      <td>Richardfort</td>\n",
       "      <td>38</td>\n",
       "      <td>Urban</td>\n",
       "      <td>2018-02-24 08:40:38</td>\n",
       "      <td>13.93</td>\n",
       "      <td>5628545007794</td>\n",
       "    </tr>\n",
       "    <tr>\n",
       "      <th>1</th>\n",
       "      <td>Richardfort</td>\n",
       "      <td>38</td>\n",
       "      <td>Urban</td>\n",
       "      <td>2018-02-13 12:46:07</td>\n",
       "      <td>14.00</td>\n",
       "      <td>910050116494</td>\n",
       "    </tr>\n",
       "    <tr>\n",
       "      <th>2</th>\n",
       "      <td>Richardfort</td>\n",
       "      <td>38</td>\n",
       "      <td>Urban</td>\n",
       "      <td>2018-02-16 13:52:19</td>\n",
       "      <td>17.92</td>\n",
       "      <td>820639054416</td>\n",
       "    </tr>\n",
       "    <tr>\n",
       "      <th>3</th>\n",
       "      <td>Richardfort</td>\n",
       "      <td>38</td>\n",
       "      <td>Urban</td>\n",
       "      <td>2018-02-01 20:18:28</td>\n",
       "      <td>10.26</td>\n",
       "      <td>9554935945413</td>\n",
       "    </tr>\n",
       "    <tr>\n",
       "      <th>4</th>\n",
       "      <td>Richardfort</td>\n",
       "      <td>38</td>\n",
       "      <td>Urban</td>\n",
       "      <td>2018-04-17 02:26:37</td>\n",
       "      <td>23.00</td>\n",
       "      <td>720020655850</td>\n",
       "    </tr>\n",
       "  </tbody>\n",
       "</table>\n",
       "</div>"
      ],
      "text/plain": [
       "          city  driver_count   type                 date   fare        ride_id\n",
       "0  Richardfort            38  Urban  2018-02-24 08:40:38  13.93  5628545007794\n",
       "1  Richardfort            38  Urban  2018-02-13 12:46:07  14.00   910050116494\n",
       "2  Richardfort            38  Urban  2018-02-16 13:52:19  17.92   820639054416\n",
       "3  Richardfort            38  Urban  2018-02-01 20:18:28  10.26  9554935945413\n",
       "4  Richardfort            38  Urban  2018-04-17 02:26:37  23.00   720020655850"
      ]
     },
     "execution_count": 103,
     "metadata": {},
     "output_type": "execute_result"
    }
   ],
   "source": [
    "# Here we merge our city_data and ride_data dataframes on the common column \"city\"\n",
    "city_ride_merged_dataframe = pd.merge(city_data, ride_data, how=\"left\", on=[\"city\", \"city\"])\n",
    "city_ride_merged_dataframe.head()"
   ]
  },
  {
   "cell_type": "markdown",
   "metadata": {},
   "source": [
    "## In this section we will create our bubble plot."
   ]
  },
  {
   "cell_type": "code",
   "execution_count": 104,
   "metadata": {},
   "outputs": [],
   "source": [
    "# Here we calculate the total rides per city for each city type.\n",
    "# First we filter our merged dataframe by city type; then we group by city, and finally finally we count the number of entries in the ride_id column.\n",
    "total_rides_per_city_urban = city_ride_merged_dataframe[city_ride_merged_dataframe[\"type\"] == \"Urban\"].groupby(\"city\")[\"ride_id\"].count()\n",
    "total_rides_per_city_suburban = city_ride_merged_dataframe[city_ride_merged_dataframe[\"type\"] == \"Suburban\"].groupby(\"city\")[\"ride_id\"].count()\n",
    "total_rides_per_city_rural = city_ride_merged_dataframe[city_ride_merged_dataframe[\"type\"] == \"Rural\"].groupby(\"city\")[\"ride_id\"].count()"
   ]
  },
  {
   "cell_type": "code",
   "execution_count": 105,
   "metadata": {
    "scrolled": true
   },
   "outputs": [],
   "source": [
    "# Here we calculate the average fare per city for each city type.\n",
    "# First we filter our merged dataframe by city type; then we group by city, and finally we find the mean of the fare column.\n",
    "average_fare_per_city_urban = city_ride_merged_dataframe[city_ride_merged_dataframe[\"type\"] == \"Urban\"].groupby(\"city\")[\"fare\"].mean()\n",
    "average_fare_per_city_suburban = city_ride_merged_dataframe[city_ride_merged_dataframe[\"type\"] == \"Suburban\"].groupby(\"city\")[\"fare\"].mean()\n",
    "average_fare_per_city_rural = city_ride_merged_dataframe[city_ride_merged_dataframe[\"type\"] == \"Rural\"].groupby(\"city\")[\"fare\"].mean()"
   ]
  },
  {
   "cell_type": "code",
   "execution_count": 106,
   "metadata": {
    "scrolled": true
   },
   "outputs": [],
   "source": [
    "# Here we calculate the total number of drivers per city for each city type.\n",
    "# First we filter our merged dataframe by city type; then we group by city; and finally we find the sum of the driver_count column for each city.\n",
    "total_drivers_per_city_urban = city_ride_merged_dataframe[city_ride_merged_dataframe[\"type\"] == \"Urban\"].groupby(\"city\")[\"driver_count\"].sum()\n",
    "total_drivers_per_city_suburban = city_ride_merged_dataframe[city_ride_merged_dataframe[\"type\"] == \"Suburban\"].groupby(\"city\")[\"driver_count\"].sum()\n",
    "total_drivers_per_city_rural = city_ride_merged_dataframe[city_ride_merged_dataframe[\"type\"] == \"Rural\"].groupby(\"city\")[\"driver_count\"].sum()"
   ]
  },
  {
   "cell_type": "code",
   "execution_count": 109,
   "metadata": {},
   "outputs": [
    {
     "data": {
      "image/png": "[encoded data removed]",
      "text/plain": [
       "<Figure size 432x288 with 1 Axes>"
      ]
     },
     "metadata": {},
     "output_type": "display_data"
    }
   ],
   "source": [
    "# Here define the data that will make up our bubble plot.\n",
    "# The x-axis is defined by the total number of rides.\n",
    "# The y-axis is defined by the average fare.\n",
    "# The point size is defined be the total number of drivers per city.\n",
    "# The colors differentiate different city types.\n",
    "plt.scatter(total_rides_per_city_urban, average_fare_per_city_urban, s=total_drivers_per_city_urban, color = \"coral\", edgecolors = \"black\", alpha=0.8, label=\"Urban\", linewidths=1)\n",
    "plt.scatter(total_rides_per_city_suburban, average_fare_per_city_suburban, s=total_drivers_per_city_suburban, color = \"lightskyblue\", edgecolors=\"black\", alpha=0.8, label=\"Suburban\", linewidths=1)\n",
    "plt.scatter(total_rides_per_city_rural, average_fare_per_city_rural, s=total_drivers_per_city_rural, color = \"gold\", edgecolors=\"black\", alpha=0.8, label=\"Rural\", linewidths=1)\n",
    "\n",
    "# This gives our plot a title.\n",
    "plt.title(\"Pyber Ride Sharing Data (2016)\")\n",
    "\n",
    "# This places a legend on our plot.\n",
    "# The title paramaeter allows us to title the legend,\n",
    "# and the loc parameter set to best places the legend in the area with the most blank space to avoid overlapping our plot points.\n",
    "bubble_plot_legend = plt.legend(title=\"City Types\", loc=\"best\")\n",
    "\n",
    "# This allows us to redefine the size of the icons in the legend.\n",
    "# Without this, the icons would correspond to the general size of the points on the plot.\n",
    "# That is, the Urban icon in the legend would be noticably larger than the the Suburban icon,\n",
    "# and the Suburban icon would be noticably larger than the Rural icon.\n",
    "bubble_plot_legend.legendHandles[0]._sizes = [50]\n",
    "bubble_plot_legend.legendHandles[1]._sizes = [50]\n",
    "bubble_plot_legend.legendHandles[2]._sizes = [50]\n",
    "\n",
    "# The following lines define our axis titles.\n",
    "plt.xlabel(\"Total Number of Rides (Per City)\")\n",
    "plt.ylabel(\"Average Fare ($)\")\n",
    "\n",
    "# This allows us to add a note at the specified coordinates.\n",
    "plt.text(42, 40, \"Note:\\nCircle size correlates\\nwith driver count per city.\")\n",
    "\n",
    "# This adds a grid to the background.  Without this we would have a blank canvas.\n",
    "plt.grid()\n",
    "\n",
    "# This shows our plot and all adjustments made thereto.\n",
    "plt.show()"
   ]
  },
  {
   "cell_type": "markdown",
   "metadata": {},
   "source": [
    "## In this section, we will create three pie charts which summarize various percentages by city type."
   ]
  },
  {
   "cell_type": "markdown",
   "metadata": {},
   "source": [
    "### Here we will create a pie chart showing percen of total rides by city types."
   ]
  },
  {
   "cell_type": "code",
   "execution_count": 110,
   "metadata": {},
   "outputs": [],
   "source": [
    "# To find the percent of fares per city typ, we will first select only rows with the relevant city type\n",
    "# Next we will calculate the sum of every value in the fare column\n",
    "# Finally, we we will the sum of the fare column for the entire dataframe including every city type\n",
    "percent_of_fares_urban = city_ride_merged_dataframe[city_ride_merged_dataframe[\"type\"] == \"Urban\"][\"fare\"].sum() / city_ride_merged_dataframe[\"fare\"].sum()\n",
    "percent_of_fares_suburban = city_ride_merged_dataframe[city_ride_merged_dataframe[\"type\"] == \"Suburban\"][\"fare\"].sum() / city_ride_merged_dataframe[\"fare\"].sum()\n",
    "percent_of_fares_rural = city_ride_merged_dataframe[city_ride_merged_dataframe[\"type\"] == \"Rural\"][\"fare\"].sum() / city_ride_merged_dataframe[\"fare\"].sum()"
   ]
  },
  {
   "cell_type": "code",
   "execution_count": 113,
   "metadata": {},
   "outputs": [
    {
     "data": {
      "text/plain": [
       "([<matplotlib.patches.Wedge at 0x1ea1a9a4710>,\n",
       "  <matplotlib.patches.Wedge at 0x1ea1a9af198>,\n",
       "  <matplotlib.patches.Wedge at 0x1ea1a9afc18>],\n",
       " [Text(1.00749,0.651886,'Urban'),\n",
       "  Text(-1.0204,0.410832,'Rural'),\n",
       "  Text(-0.775574,-0.780054,'Suburban')],\n",
       " [Text(0.587705,0.380267,'62.7%'),\n",
       "  Text(-0.556582,0.22409,'6.8%'),\n",
       "  Text(-0.42304,-0.425484,'30.5%')])"
      ]
     },
     "execution_count": 113,
     "metadata": {},
     "output_type": "execute_result"
    },
    {
     "data": {
      "image/png": "[encoded data removed]",
      "text/plain": [
       "<Figure size 432x288 with 1 Axes>"
      ]
     },
     "metadata": {},
     "output_type": "display_data"
    }
   ],
   "source": [
    "# Here we define a list containing the percentages of fares per city type to be used in a pie chart.\n",
    "percent_of_fares_data = [percent_of_fares_urban, percent_of_fares_rural, percent_of_fares_suburban]\n",
    "\n",
    "# Here we define the labels to be used on our pie chart.\n",
    "percent_of_fares_labels = [\"Urban\", \"Rural\", \"Suburban\"]\n",
    "\n",
    "# Here we explode the Urban part of the pie chart.\n",
    "percent_of_fares_explode = (0.1, 0, 0)\n",
    "\n",
    "# Here we define the colors of our pie chart to match the Pyber company's colors.\n",
    "percent_of_fares_colors = [\"lightcoral\", \"gold\", \"lightskyblue\"]\n",
    "\n",
    "# Here we use all the settings previous defined to create our pie chart.\n",
    "# We add the additional setting of autopct=\"%0.1f%\" to show the actual value for each part on the pie chart.  We also add a shadow to our chart.\n",
    "plt.pie(percent_of_fares_data, autopct=\"%0.1f%%\", labels = percent_of_fares_labels, explode=percent_of_fares_explode, colors=percent_of_fares_colors, startangle=280, shadow=True)"
   ]
  },
  {
   "cell_type": "code",
   "execution_count": null,
   "metadata": {},
   "outputs": [],
   "source": []
  },
  {
   "cell_type": "code",
   "execution_count": null,
   "metadata": {},
   "outputs": [],
   "source": []
  },
  {
   "cell_type": "code",
   "execution_count": null,
   "metadata": {},
   "outputs": [],
   "source": []
  },
  {
   "cell_type": "code",
   "execution_count": null,
   "metadata": {},
   "outputs": [],
   "source": []
  },
  {
   "cell_type": "code",
   "execution_count": null,
   "metadata": {},
   "outputs": [],
   "source": []
  },
  {
   "cell_type": "code",
   "execution_count": null,
   "metadata": {},
   "outputs": [],
   "source": []
  },
  {
   "cell_type": "code",
   "execution_count": null,
   "metadata": {},
   "outputs": [],
   "source": []
  },
  {
   "cell_type": "code",
   "execution_count": null,
   "metadata": {},
   "outputs": [],
   "source": []
  },
  {
   "cell_type": "code",
   "execution_count": null,
   "metadata": {},
   "outputs": [],
   "source": []
  },
  {
   "cell_type": "code",
   "execution_count": null,
   "metadata": {},
   "outputs": [],
   "source": []
  },
  {
   "cell_type": "code",
   "execution_count": null,
   "metadata": {},
   "outputs": [],
   "source": []
  },
  {
   "cell_type": "code",
   "execution_count": null,
   "metadata": {},
   "outputs": [],
   "source": []
  },
  {
   "cell_type": "code",
   "execution_count": null,
   "metadata": {},
   "outputs": [],
   "source": []
  },
  {
   "cell_type": "code",
   "execution_count": null,
   "metadata": {},
   "outputs": [],
   "source": []
  },
  {
   "cell_type": "code",
   "execution_count": null,
   "metadata": {},
   "outputs": [],
   "source": []
  },
  {
   "cell_type": "code",
   "execution_count": null,
   "metadata": {},
   "outputs": [],
   "source": []
  },
  {
   "cell_type": "code",
   "execution_count": null,
   "metadata": {},
   "outputs": [],
   "source": []
  },
  {
   "cell_type": "code",
   "execution_count": null,
   "metadata": {},
   "outputs": [],
   "source": []
  },
  {
   "cell_type": "code",
   "execution_count": null,
   "metadata": {},
   "outputs": [],
   "source": []
  }
 ],
 "metadata": {
  "kernelspec": {
   "display_name": "Python 3",
   "language": "python",
   "name": "python3"
  },
  "language_info": {
   "codemirror_mode": {
    "name": "ipython",
    "version": 3
   },
   "file_extension": ".py",
   "mimetype": "text/x-python",
   "name": "python",
   "nbconvert_exporter": "python",
   "pygments_lexer": "ipython3",
   "version": "3.6.5"
  }
 },
 "nbformat": 4,
 "nbformat_minor": 2
}
